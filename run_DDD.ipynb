{
  "nbformat": 4,
  "nbformat_minor": 0,
  "metadata": {
    "colab": {
      "provenance": []
    },
    "kernelspec": {
      "name": "python3",
      "display_name": "Python 3"
    },
    "language_info": {
      "name": "python"
    }
  },
  "cells": [
    {
      "cell_type": "markdown",
      "source": [
        "# Implementation of Data-Driven Decision based on Causal Decision Diagram"
      ],
      "metadata": {
        "id": "0YBTZEBiJIdd"
      }
    },
    {
      "cell_type": "markdown",
      "source": [
        "## 1. Menyiapkan Platform dengan pustaka dan program yang dibutuhkan"
      ],
      "metadata": {
        "id": "jnXfxabDJUfZ"
      }
    },
    {
      "cell_type": "code",
      "execution_count": 1,
      "metadata": {
        "colab": {
          "base_uri": "https://localhost:8080/"
        },
        "id": "6ZO-_aAO5nnB",
        "outputId": "062acb16-b9d6-4c45-ba43-8193b61086fb"
      },
      "outputs": [
        {
          "output_type": "stream",
          "name": "stdout",
          "text": [
            "Cloning into 'DDD'...\n",
            "remote: Enumerating objects: 18, done.\u001b[K\n",
            "remote: Counting objects: 100% (18/18), done.\u001b[K\n",
            "remote: Compressing objects: 100% (16/16), done.\u001b[K\n",
            "remote: Total 18 (delta 1), reused 0 (delta 0), pack-reused 0\u001b[K\n",
            "Receiving objects: 100% (18/18), 24.74 KiB | 8.25 MiB/s, done.\n",
            "Resolving deltas: 100% (1/1), done.\n"
          ]
        }
      ],
      "source": [
        "!git clone https://github.com/alexanderkhoe/DDD.git"
      ]
    },
    {
      "cell_type": "code",
      "source": [
        "%cd /content/DDD"
      ],
      "metadata": {
        "colab": {
          "base_uri": "https://localhost:8080/"
        },
        "id": "2d26HcHG6BhL",
        "outputId": "e7421577-e52f-4c18-bd5e-872d4ac23dd8"
      },
      "execution_count": 2,
      "outputs": [
        {
          "output_type": "stream",
          "name": "stdout",
          "text": [
            "/content/DDD\n"
          ]
        }
      ]
    },
    {
      "cell_type": "code",
      "source": [
        "!pip install SALib\n",
        "!pip install -U pymoo"
      ],
      "metadata": {
        "colab": {
          "base_uri": "https://localhost:8080/"
        },
        "id": "TaKS7UU178G3",
        "outputId": "47875148-c444-4cc5-a685-7d32b15be6a2"
      },
      "execution_count": 3,
      "outputs": [
        {
          "output_type": "stream",
          "name": "stdout",
          "text": [
            "Collecting SALib\n",
            "  Downloading salib-1.5.0-py3-none-any.whl (778 kB)\n",
            "\u001b[?25l     \u001b[90m━━━━━━━━━━━━━━━━━━━━━━━━━━━━━━━━━━━━━━━━\u001b[0m \u001b[32m0.0/778.8 kB\u001b[0m \u001b[31m?\u001b[0m eta \u001b[36m-:--:--\u001b[0m\r\u001b[2K     \u001b[91m━━━━━━━━━\u001b[0m\u001b[90m╺\u001b[0m\u001b[90m━━━━━━━━━━━━━━━━━━━━━━━━━━━━━━\u001b[0m \u001b[32m184.3/778.8 kB\u001b[0m \u001b[31m5.3 MB/s\u001b[0m eta \u001b[36m0:00:01\u001b[0m\r\u001b[2K     \u001b[90m━━━━━━━━━━━━━━━━━━━━━━━━━━━━━━━━━━━━━━━━\u001b[0m \u001b[32m778.8/778.8 kB\u001b[0m \u001b[31m11.9 MB/s\u001b[0m eta \u001b[36m0:00:00\u001b[0m\n",
            "\u001b[?25hRequirement already satisfied: matplotlib>=3.5 in /usr/local/lib/python3.10/dist-packages (from SALib) (3.7.1)\n",
            "Collecting multiprocess (from SALib)\n",
            "  Downloading multiprocess-0.70.16-py310-none-any.whl (134 kB)\n",
            "\u001b[2K     \u001b[90m━━━━━━━━━━━━━━━━━━━━━━━━━━━━━━━━━━━━━━━━\u001b[0m \u001b[32m134.8/134.8 kB\u001b[0m \u001b[31m13.2 MB/s\u001b[0m eta \u001b[36m0:00:00\u001b[0m\n",
            "\u001b[?25hRequirement already satisfied: numpy>=1.20.3 in /usr/local/lib/python3.10/dist-packages (from SALib) (1.25.2)\n",
            "Requirement already satisfied: pandas>=2.0 in /usr/local/lib/python3.10/dist-packages (from SALib) (2.0.3)\n",
            "Requirement already satisfied: scipy>=1.9.3 in /usr/local/lib/python3.10/dist-packages (from SALib) (1.11.4)\n",
            "Requirement already satisfied: contourpy>=1.0.1 in /usr/local/lib/python3.10/dist-packages (from matplotlib>=3.5->SALib) (1.2.1)\n",
            "Requirement already satisfied: cycler>=0.10 in /usr/local/lib/python3.10/dist-packages (from matplotlib>=3.5->SALib) (0.12.1)\n",
            "Requirement already satisfied: fonttools>=4.22.0 in /usr/local/lib/python3.10/dist-packages (from matplotlib>=3.5->SALib) (4.53.0)\n",
            "Requirement already satisfied: kiwisolver>=1.0.1 in /usr/local/lib/python3.10/dist-packages (from matplotlib>=3.5->SALib) (1.4.5)\n",
            "Requirement already satisfied: packaging>=20.0 in /usr/local/lib/python3.10/dist-packages (from matplotlib>=3.5->SALib) (24.0)\n",
            "Requirement already satisfied: pillow>=6.2.0 in /usr/local/lib/python3.10/dist-packages (from matplotlib>=3.5->SALib) (9.4.0)\n",
            "Requirement already satisfied: pyparsing>=2.3.1 in /usr/local/lib/python3.10/dist-packages (from matplotlib>=3.5->SALib) (3.1.2)\n",
            "Requirement already satisfied: python-dateutil>=2.7 in /usr/local/lib/python3.10/dist-packages (from matplotlib>=3.5->SALib) (2.8.2)\n",
            "Requirement already satisfied: pytz>=2020.1 in /usr/local/lib/python3.10/dist-packages (from pandas>=2.0->SALib) (2023.4)\n",
            "Requirement already satisfied: tzdata>=2022.1 in /usr/local/lib/python3.10/dist-packages (from pandas>=2.0->SALib) (2024.1)\n",
            "Collecting dill>=0.3.8 (from multiprocess->SALib)\n",
            "  Downloading dill-0.3.8-py3-none-any.whl (116 kB)\n",
            "\u001b[2K     \u001b[90m━━━━━━━━━━━━━━━━━━━━━━━━━━━━━━━━━━━━━━━━\u001b[0m \u001b[32m116.3/116.3 kB\u001b[0m \u001b[31m11.5 MB/s\u001b[0m eta \u001b[36m0:00:00\u001b[0m\n",
            "\u001b[?25hRequirement already satisfied: six>=1.5 in /usr/local/lib/python3.10/dist-packages (from python-dateutil>=2.7->matplotlib>=3.5->SALib) (1.16.0)\n",
            "Installing collected packages: dill, multiprocess, SALib\n",
            "Successfully installed SALib-1.5.0 dill-0.3.8 multiprocess-0.70.16\n",
            "Collecting pymoo\n",
            "  Downloading pymoo-0.6.1.1-cp310-cp310-manylinux_2_17_x86_64.manylinux2014_x86_64.whl (4.1 MB)\n",
            "\u001b[2K     \u001b[90m━━━━━━━━━━━━━━━━━━━━━━━━━━━━━━━━━━━━━━━━\u001b[0m \u001b[32m4.1/4.1 MB\u001b[0m \u001b[31m34.1 MB/s\u001b[0m eta \u001b[36m0:00:00\u001b[0m\n",
            "\u001b[?25hRequirement already satisfied: numpy>=1.15 in /usr/local/lib/python3.10/dist-packages (from pymoo) (1.25.2)\n",
            "Requirement already satisfied: scipy>=1.1 in /usr/local/lib/python3.10/dist-packages (from pymoo) (1.11.4)\n",
            "Requirement already satisfied: matplotlib>=3 in /usr/local/lib/python3.10/dist-packages (from pymoo) (3.7.1)\n",
            "Requirement already satisfied: autograd>=1.4 in /usr/local/lib/python3.10/dist-packages (from pymoo) (1.6.2)\n",
            "Collecting cma==3.2.2 (from pymoo)\n",
            "  Downloading cma-3.2.2-py2.py3-none-any.whl (249 kB)\n",
            "\u001b[2K     \u001b[90m━━━━━━━━━━━━━━━━━━━━━━━━━━━━━━━━━━━━━━━━\u001b[0m \u001b[32m249.1/249.1 kB\u001b[0m \u001b[31m20.8 MB/s\u001b[0m eta \u001b[36m0:00:00\u001b[0m\n",
            "\u001b[?25hCollecting alive-progress (from pymoo)\n",
            "  Downloading alive_progress-3.1.5-py3-none-any.whl (75 kB)\n",
            "\u001b[2K     \u001b[90m━━━━━━━━━━━━━━━━━━━━━━━━━━━━━━━━━━━━━━━━\u001b[0m \u001b[32m76.0/76.0 kB\u001b[0m \u001b[31m8.5 MB/s\u001b[0m eta \u001b[36m0:00:00\u001b[0m\n",
            "\u001b[?25hRequirement already satisfied: dill in /usr/local/lib/python3.10/dist-packages (from pymoo) (0.3.8)\n",
            "Collecting Deprecated (from pymoo)\n",
            "  Downloading Deprecated-1.2.14-py2.py3-none-any.whl (9.6 kB)\n",
            "Requirement already satisfied: future>=0.15.2 in /usr/local/lib/python3.10/dist-packages (from autograd>=1.4->pymoo) (0.18.3)\n",
            "Requirement already satisfied: contourpy>=1.0.1 in /usr/local/lib/python3.10/dist-packages (from matplotlib>=3->pymoo) (1.2.1)\n",
            "Requirement already satisfied: cycler>=0.10 in /usr/local/lib/python3.10/dist-packages (from matplotlib>=3->pymoo) (0.12.1)\n",
            "Requirement already satisfied: fonttools>=4.22.0 in /usr/local/lib/python3.10/dist-packages (from matplotlib>=3->pymoo) (4.53.0)\n",
            "Requirement already satisfied: kiwisolver>=1.0.1 in /usr/local/lib/python3.10/dist-packages (from matplotlib>=3->pymoo) (1.4.5)\n",
            "Requirement already satisfied: packaging>=20.0 in /usr/local/lib/python3.10/dist-packages (from matplotlib>=3->pymoo) (24.0)\n",
            "Requirement already satisfied: pillow>=6.2.0 in /usr/local/lib/python3.10/dist-packages (from matplotlib>=3->pymoo) (9.4.0)\n",
            "Requirement already satisfied: pyparsing>=2.3.1 in /usr/local/lib/python3.10/dist-packages (from matplotlib>=3->pymoo) (3.1.2)\n",
            "Requirement already satisfied: python-dateutil>=2.7 in /usr/local/lib/python3.10/dist-packages (from matplotlib>=3->pymoo) (2.8.2)\n",
            "Collecting about-time==4.2.1 (from alive-progress->pymoo)\n",
            "  Downloading about_time-4.2.1-py3-none-any.whl (13 kB)\n",
            "Collecting grapheme==0.6.0 (from alive-progress->pymoo)\n",
            "  Downloading grapheme-0.6.0.tar.gz (207 kB)\n",
            "\u001b[2K     \u001b[90m━━━━━━━━━━━━━━━━━━━━━━━━━━━━━━━━━━━━━━━━\u001b[0m \u001b[32m207.3/207.3 kB\u001b[0m \u001b[31m20.4 MB/s\u001b[0m eta \u001b[36m0:00:00\u001b[0m\n",
            "\u001b[?25h  Preparing metadata (setup.py) ... \u001b[?25l\u001b[?25hdone\n",
            "Requirement already satisfied: wrapt<2,>=1.10 in /usr/local/lib/python3.10/dist-packages (from Deprecated->pymoo) (1.14.1)\n",
            "Requirement already satisfied: six>=1.5 in /usr/local/lib/python3.10/dist-packages (from python-dateutil>=2.7->matplotlib>=3->pymoo) (1.16.0)\n",
            "Building wheels for collected packages: grapheme\n",
            "  Building wheel for grapheme (setup.py) ... \u001b[?25l\u001b[?25hdone\n",
            "  Created wheel for grapheme: filename=grapheme-0.6.0-py3-none-any.whl size=210078 sha256=392bfe1adcb405e39351ee8a785d3e1cd79d43a89acf46dc22544b2791a9e1e8\n",
            "  Stored in directory: /root/.cache/pip/wheels/01/e1/49/37e6bde9886439057450c494a79b0bef8bbe897a54aebfc757\n",
            "Successfully built grapheme\n",
            "Installing collected packages: grapheme, Deprecated, cma, about-time, alive-progress, pymoo\n",
            "Successfully installed Deprecated-1.2.14 about-time-4.2.1 alive-progress-3.1.5 cma-3.2.2 grapheme-0.6.0 pymoo-0.6.1.1\n"
          ]
        }
      ]
    },
    {
      "cell_type": "markdown",
      "source": [
        "## 2. Membangun Causal Decision Diagram dengan mendefinisikan keputusan yang dapat diambil (Lever), variabel antara (Intermediate), hasil akhir (Outcome) dan eksternal (External)."
      ],
      "metadata": {
        "id": "IPLi9N-KJzfv"
      }
    },
    {
      "cell_type": "code",
      "source": [
        "from DDD.cdm import CausalDecisionModel\n",
        "from DDD.element import Lever, Outcome, Intermediate, External\n",
        "\n",
        "lever1 = Lever(\"Marketing Spend\", 500.00, [0.00, 2000.00])\n",
        "lever2 = Lever(\"Sales Price\", 8.25, [0.04, 15.00])\n",
        "lever3 = Lever(\"Production Order Size\", 85000, [0, 200000])\n",
        "\n"
      ],
      "metadata": {
        "id": "Y6Bx2JHK5sQE"
      },
      "execution_count": 4,
      "outputs": []
    },
    {
      "cell_type": "code",
      "source": [
        "external1 = External(\"Market Size\", 1000, [100, 10000])\n"
      ],
      "metadata": {
        "id": "UVMlrQo_7eZ_"
      },
      "execution_count": 5,
      "outputs": []
    },
    {
      "cell_type": "code",
      "source": [
        "# Diketahui dari studi kasus: Semakin rendah harga produk, semakin tinggi persentase penjualan sebesar 11%\n",
        "def f1(x): # model Price(P) bersifat linear dengan demand (Q) sebagai berikut Q = a – b*P\n",
        "  return 1000-100*x\n",
        "\n",
        "import math\n",
        "def f2(x): # model Uplift (U) terhadap Marketing Spend (S) sebagai berikut U = a+b*ln(S)\n",
        "  return 1000+100*math.log(x)\n",
        "\n",
        "itm1 = Intermediate(\"Demand\", [\"Sales Price\"]).fit(f1)\n",
        "itm2 = Intermediate(\"Uplift\", [\"Marketing Spend\"]).fit(f2)\n",
        "itm3 = Intermediate(\"Units Sold\", [\"Market Size\", \"Uplift\", \"Demand\"]).fit(lambda x, y, z: x*y*z)\n",
        "itm4 = Intermediate(\"Revenue\", [\"Units Sold\", \"Sales Price\"]).fit(lambda x, y: x * y)\n",
        "\n",
        "itm5 = Intermediate(\"Unit Cost\", [\"Production Order Size\"]).fit(lambda x: x)\n",
        "itm6 = Intermediate(\"Production Cost\", [\"Unit Cost\", \"Production Order Size\"]).fit(lambda x, y: x * y)\n",
        "itm7 = Intermediate(\"Total Cost\", [\"Marketing Spend\", \"Production Cost\"]).fit(lambda x, y: x + y)\n"
      ],
      "metadata": {
        "id": "N6mdVLR28gtQ"
      },
      "execution_count": 17,
      "outputs": []
    },
    {
      "cell_type": "code",
      "source": [
        "outcome = Outcome(\"Profit\", [\"Revenue\", \"Total Cost\"]).fit(lambda x, y: x - y)\n"
      ],
      "metadata": {
        "id": "9j-_GNJV8kNk"
      },
      "execution_count": 18,
      "outputs": []
    },
    {
      "cell_type": "code",
      "source": [
        "model = CausalDecisionModel([lever1, lever2, lever3])\n",
        "model.add_element(external1)\n",
        "model.add_elements([itm1, itm2, itm3, itm4, itm5, itm6, itm7])\n",
        "model.add_element(outcome)"
      ],
      "metadata": {
        "id": "aUk3p_8b8oIj"
      },
      "execution_count": 19,
      "outputs": []
    },
    {
      "cell_type": "markdown",
      "source": [
        "## 3. Analisa Keputusan berdasarkan Lever"
      ],
      "metadata": {
        "id": "nSY5H4fpBcyK"
      }
    },
    {
      "cell_type": "code",
      "source": [
        "print(model.validate())\n",
        "print(model.element(\"Total Cost\"))\n",
        "print(model.call(\"Profit\")([1, 2, 3]))\n",
        "\n",
        "x, y, z = model.multi_optimize([\"Profit\"])\n",
        "print(x, y, z)\n",
        "\n"
      ],
      "metadata": {
        "colab": {
          "base_uri": "https://localhost:8080/"
        },
        "id": "gpHRva7A8ruX",
        "outputId": "e5844de7-44c2-4b83-f5e6-9ba5c428b3b5"
      },
      "execution_count": 22,
      "outputs": [
        {
          "output_type": "stream",
          "name": "stdout",
          "text": [
            "True\n",
            "Intermediate(Total Cost)\n",
            "4799999990.0\n",
            "1999.5775731619317 4.99670359815975 198.8342747840993\n"
          ]
        }
      ]
    },
    {
      "cell_type": "code",
      "source": [
        "print(model.sensitivity(\"Profit\"))\n",
        "print(model.fidelity)"
      ],
      "metadata": {
        "colab": {
          "base_uri": "https://localhost:8080/"
        },
        "id": "ZIA7vL1OGDTK",
        "outputId": "e38e8ddc-c429-4aa3-bd47-ff8fff0a5a34"
      },
      "execution_count": 23,
      "outputs": [
        {
          "output_type": "stream",
          "name": "stdout",
          "text": [
            "(array([-0.0012428 ,  0.5662229 ,  0.43198801]), array([0.00207244, 0.56799927, 0.43156891]))\n",
            "[1, 1, 1, 1, 1, 1, 1, 1]\n",
            "1.0\n"
          ]
        }
      ]
    },
    {
      "cell_type": "code",
      "source": [
        "print(model.optimize(\"Profit\"))\n",
        "external1.value = 3000\n",
        "print(model.call(\"Profit\")([1, 2, 3]))\n",
        "print(model.optimize(\"Profit\"))\n",
        "print(model.call(\"Profit\")([1, 2, 3]))"
      ],
      "metadata": {
        "colab": {
          "base_uri": "https://localhost:8080/"
        },
        "id": "2jY60wLH8vZ9",
        "outputId": "c15a3117-04c0-4b34-e5d8-6a5fe541a8f0"
      },
      "execution_count": 24,
      "outputs": [
        {
          "output_type": "stream",
          "name": "stdout",
          "text": [
            "[1997.40644378    5.04337245  303.03127976]\n",
            "4799999990.0\n",
            "[1999.96899219    5.01596589   79.15195742]\n",
            "4799999990.0\n"
          ]
        }
      ]
    },
    {
      "cell_type": "code",
      "source": [
        "print(model.optimize(\"Profit\"))\n",
        "external1.value = 2000\n",
        "print(model.call(\"Profit\")([1, 2, 3]))\n",
        "print(model.optimize(\"Profit\"))\n",
        "print(model.call(\"Profit\")([1, 2, 3]))"
      ],
      "metadata": {
        "id": "PEYd6O119RLX",
        "colab": {
          "base_uri": "https://localhost:8080/"
        },
        "outputId": "016d62ae-570c-48b4-d802-169b2a31db16"
      },
      "execution_count": 25,
      "outputs": [
        {
          "output_type": "stream",
          "name": "stdout",
          "text": [
            "[1998.4569891     5.00485738  279.28870804]\n",
            "3199999990.0\n",
            "[1999.94904528    5.01191685   81.29247919]\n",
            "3199999990.0\n"
          ]
        }
      ]
    },
    {
      "cell_type": "code",
      "source": [],
      "metadata": {
        "id": "UZ2BVtt5BsJ4"
      },
      "execution_count": null,
      "outputs": []
    }
  ]
}